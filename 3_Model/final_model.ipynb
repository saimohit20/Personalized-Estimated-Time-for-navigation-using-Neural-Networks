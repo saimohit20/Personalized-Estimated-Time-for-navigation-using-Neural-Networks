{
  "cells": [
    {
      "cell_type": "markdown",
      "metadata": {
        "id": "AT7FUIMp6OyP"
      },
      "source": [
        "# Model Definition and Evaluation\n",
        "## Table of Contents\n",
        "1. [Libraries](#libraries)\n",
        "2. [Load dataset](#load-dataset)\n",
        "3. [Model configuration](#model-configuration)\n",
        "4. [Implementation](#implementation)\n",
        "5. [Evaluation](#evaluation)\n"
      ]
    },
    {
      "cell_type": "markdown",
      "source": [
        "## 1. Libraries"
      ],
      "metadata": {
        "id": "NK1Xp7vQn3GQ"
      }
    },
    {
      "cell_type": "code",
      "source": [
        "!pip install openpyxl"
      ],
      "metadata": {
        "id": "zUApz9fFmWSh",
        "outputId": "ccb3fd87-33ad-4bc9-ecd1-99e29b3a3c3d",
        "colab": {
          "base_uri": "https://localhost:8080/"
        }
      },
      "execution_count": 2,
      "outputs": [
        {
          "output_type": "stream",
          "name": "stdout",
          "text": [
            "Requirement already satisfied: openpyxl in /usr/local/lib/python3.10/dist-packages (3.1.5)\n",
            "Requirement already satisfied: et-xmlfile in /usr/local/lib/python3.10/dist-packages (from openpyxl) (2.0.0)\n"
          ]
        }
      ]
    },
    {
      "cell_type": "code",
      "execution_count": 3,
      "metadata": {
        "id": "Hf64Ejtw6OyQ"
      },
      "outputs": [],
      "source": [
        "# Import necessary libraries\n",
        "import os\n",
        "import pandas as pd\n",
        "import numpy as np\n",
        "import joblib\n",
        "from sklearn.model_selection import train_test_split, GridSearchCV\n",
        "from sklearn.metrics import accuracy_score, mean_squared_error, classification_report, mean_absolute_error\n",
        "from sklearn.preprocessing import StandardScaler\n",
        "import tensorflow as tf\n",
        "from tensorflow.keras.models import Sequential, load_model\n",
        "from tensorflow.keras.layers import Dense, Dropout, BatchNormalization\n",
        "from tensorflow.keras.optimizers import Adam\n",
        "from tensorflow.keras.callbacks import EarlyStopping, ModelCheckpoint, ReduceLROnPlateau"
      ]
    },
    {
      "cell_type": "markdown",
      "metadata": {
        "id": "vAjcUwdb6OyS"
      },
      "source": [
        "## 2. Load dataset\n",
        "\n",
        "Load a preprocessed data and select features."
      ]
    },
    {
      "cell_type": "code",
      "source": [
        "from google.colab import drive\n",
        "drive.mount('/content/drive')"
      ],
      "metadata": {
        "id": "PAUqsOUCMo6w",
        "outputId": "8df67ddc-ac36-4342-b796-1a4affc43d3a",
        "colab": {
          "base_uri": "https://localhost:8080/"
        }
      },
      "execution_count": 4,
      "outputs": [
        {
          "output_type": "stream",
          "name": "stdout",
          "text": [
            "Mounted at /content/drive\n"
          ]
        }
      ]
    },
    {
      "cell_type": "code",
      "execution_count": 7,
      "metadata": {
        "id": "7xO-oSj56OyT"
      },
      "outputs": [],
      "source": [
        "# Load the dataset\n",
        "# Replace 'your_dataset.csv' with the path to your actual dataset\n",
        "df = pd.read_csv('/content/drive/MyDrive/opencampus_all_files/rider3/combined_data_r3.csv')\n",
        "\n",
        "# Feature and target variable selection\n",
        "Time_real = df['Time']\n",
        "X = df[['Elevation', 'Slope_prev', 'Slope_next',  'Angle', 'Distance', 'Cumulative_Slope']] # Cumulative slope\n",
        "y = df['Speed']\n",
        "\n",
        "# Split the dataset\n",
        "X_train, X_test, y_train, y_test = train_test_split(X, y, test_size=0.1, random_state=42)\n"
      ]
    },
    {
      "cell_type": "markdown",
      "metadata": {
        "id": "cG36ZeBF6OyT"
      },
      "source": [
        "## 3. Model configuration\n"
      ]
    },
    {
      "cell_type": "code",
      "source": [
        "# Initialize the model\n",
        "model = Sequential()\n",
        "\n",
        "# Input Layer (6 features)\n",
        "model.add(Dense(128, input_dim=X_train.shape[1], activation='relu'))\n",
        "\n",
        "# Hidden Layers\n",
        "model.add(Dense(256, activation='relu'))  # Large hidden layer to capture more complex patterns\n",
        "model.add(Dropout(0.2))  # Dropout to prevent overfitting\n",
        "model.add(Dense(128, activation='relu'))\n",
        "model.add(Dropout(0.2))  # Dropout again after each hidden layer\n",
        "\n",
        "# Output Layer\n",
        "model.add(Dense(1))  # Regression output\n",
        "\n",
        "# Compile the model\n",
        "model.compile(optimizer=Adam(), loss='mean_squared_error', metrics=['mae'])\n",
        "\n",
        "# Summarize the model architecture\n",
        "model.summary()\n"
      ],
      "metadata": {
        "id": "wrErJtwiNYV4",
        "outputId": "d3373bfc-22e2-4337-cb3a-5fd2ac4a0d28",
        "colab": {
          "base_uri": "https://localhost:8080/",
          "height": 377
        }
      },
      "execution_count": 8,
      "outputs": [
        {
          "output_type": "stream",
          "name": "stderr",
          "text": [
            "/usr/local/lib/python3.10/dist-packages/keras/src/layers/core/dense.py:87: UserWarning: Do not pass an `input_shape`/`input_dim` argument to a layer. When using Sequential models, prefer using an `Input(shape)` object as the first layer in the model instead.\n",
            "  super().__init__(activity_regularizer=activity_regularizer, **kwargs)\n"
          ]
        },
        {
          "output_type": "display_data",
          "data": {
            "text/plain": [
              "\u001b[1mModel: \"sequential\"\u001b[0m\n"
            ],
            "text/html": [
              "<pre style=\"white-space:pre;overflow-x:auto;line-height:normal;font-family:Menlo,'DejaVu Sans Mono',consolas,'Courier New',monospace\"><span style=\"font-weight: bold\">Model: \"sequential\"</span>\n",
              "</pre>\n"
            ]
          },
          "metadata": {}
        },
        {
          "output_type": "display_data",
          "data": {
            "text/plain": [
              "┏━━━━━━━━━━━━━━━━━━━━━━━━━━━━━━━━━━━━━━┳━━━━━━━━━━━━━━━━━━━━━━━━━━━━━┳━━━━━━━━━━━━━━━━━┓\n",
              "┃\u001b[1m \u001b[0m\u001b[1mLayer (type)                        \u001b[0m\u001b[1m \u001b[0m┃\u001b[1m \u001b[0m\u001b[1mOutput Shape               \u001b[0m\u001b[1m \u001b[0m┃\u001b[1m \u001b[0m\u001b[1m        Param #\u001b[0m\u001b[1m \u001b[0m┃\n",
              "┡━━━━━━━━━━━━━━━━━━━━━━━━━━━━━━━━━━━━━━╇━━━━━━━━━━━━━━━━━━━━━━━━━━━━━╇━━━━━━━━━━━━━━━━━┩\n",
              "│ dense (\u001b[38;5;33mDense\u001b[0m)                        │ (\u001b[38;5;45mNone\u001b[0m, \u001b[38;5;34m128\u001b[0m)                 │             \u001b[38;5;34m896\u001b[0m │\n",
              "├──────────────────────────────────────┼─────────────────────────────┼─────────────────┤\n",
              "│ dense_1 (\u001b[38;5;33mDense\u001b[0m)                      │ (\u001b[38;5;45mNone\u001b[0m, \u001b[38;5;34m256\u001b[0m)                 │          \u001b[38;5;34m33,024\u001b[0m │\n",
              "├──────────────────────────────────────┼─────────────────────────────┼─────────────────┤\n",
              "│ dropout (\u001b[38;5;33mDropout\u001b[0m)                    │ (\u001b[38;5;45mNone\u001b[0m, \u001b[38;5;34m256\u001b[0m)                 │               \u001b[38;5;34m0\u001b[0m │\n",
              "├──────────────────────────────────────┼─────────────────────────────┼─────────────────┤\n",
              "│ dense_2 (\u001b[38;5;33mDense\u001b[0m)                      │ (\u001b[38;5;45mNone\u001b[0m, \u001b[38;5;34m128\u001b[0m)                 │          \u001b[38;5;34m32,896\u001b[0m │\n",
              "├──────────────────────────────────────┼─────────────────────────────┼─────────────────┤\n",
              "│ dropout_1 (\u001b[38;5;33mDropout\u001b[0m)                  │ (\u001b[38;5;45mNone\u001b[0m, \u001b[38;5;34m128\u001b[0m)                 │               \u001b[38;5;34m0\u001b[0m │\n",
              "├──────────────────────────────────────┼─────────────────────────────┼─────────────────┤\n",
              "│ dense_3 (\u001b[38;5;33mDense\u001b[0m)                      │ (\u001b[38;5;45mNone\u001b[0m, \u001b[38;5;34m1\u001b[0m)                   │             \u001b[38;5;34m129\u001b[0m │\n",
              "└──────────────────────────────────────┴─────────────────────────────┴─────────────────┘\n"
            ],
            "text/html": [
              "<pre style=\"white-space:pre;overflow-x:auto;line-height:normal;font-family:Menlo,'DejaVu Sans Mono',consolas,'Courier New',monospace\">┏━━━━━━━━━━━━━━━━━━━━━━━━━━━━━━━━━━━━━━┳━━━━━━━━━━━━━━━━━━━━━━━━━━━━━┳━━━━━━━━━━━━━━━━━┓\n",
              "┃<span style=\"font-weight: bold\"> Layer (type)                         </span>┃<span style=\"font-weight: bold\"> Output Shape                </span>┃<span style=\"font-weight: bold\">         Param # </span>┃\n",
              "┡━━━━━━━━━━━━━━━━━━━━━━━━━━━━━━━━━━━━━━╇━━━━━━━━━━━━━━━━━━━━━━━━━━━━━╇━━━━━━━━━━━━━━━━━┩\n",
              "│ dense (<span style=\"color: #0087ff; text-decoration-color: #0087ff\">Dense</span>)                        │ (<span style=\"color: #00d7ff; text-decoration-color: #00d7ff\">None</span>, <span style=\"color: #00af00; text-decoration-color: #00af00\">128</span>)                 │             <span style=\"color: #00af00; text-decoration-color: #00af00\">896</span> │\n",
              "├──────────────────────────────────────┼─────────────────────────────┼─────────────────┤\n",
              "│ dense_1 (<span style=\"color: #0087ff; text-decoration-color: #0087ff\">Dense</span>)                      │ (<span style=\"color: #00d7ff; text-decoration-color: #00d7ff\">None</span>, <span style=\"color: #00af00; text-decoration-color: #00af00\">256</span>)                 │          <span style=\"color: #00af00; text-decoration-color: #00af00\">33,024</span> │\n",
              "├──────────────────────────────────────┼─────────────────────────────┼─────────────────┤\n",
              "│ dropout (<span style=\"color: #0087ff; text-decoration-color: #0087ff\">Dropout</span>)                    │ (<span style=\"color: #00d7ff; text-decoration-color: #00d7ff\">None</span>, <span style=\"color: #00af00; text-decoration-color: #00af00\">256</span>)                 │               <span style=\"color: #00af00; text-decoration-color: #00af00\">0</span> │\n",
              "├──────────────────────────────────────┼─────────────────────────────┼─────────────────┤\n",
              "│ dense_2 (<span style=\"color: #0087ff; text-decoration-color: #0087ff\">Dense</span>)                      │ (<span style=\"color: #00d7ff; text-decoration-color: #00d7ff\">None</span>, <span style=\"color: #00af00; text-decoration-color: #00af00\">128</span>)                 │          <span style=\"color: #00af00; text-decoration-color: #00af00\">32,896</span> │\n",
              "├──────────────────────────────────────┼─────────────────────────────┼─────────────────┤\n",
              "│ dropout_1 (<span style=\"color: #0087ff; text-decoration-color: #0087ff\">Dropout</span>)                  │ (<span style=\"color: #00d7ff; text-decoration-color: #00d7ff\">None</span>, <span style=\"color: #00af00; text-decoration-color: #00af00\">128</span>)                 │               <span style=\"color: #00af00; text-decoration-color: #00af00\">0</span> │\n",
              "├──────────────────────────────────────┼─────────────────────────────┼─────────────────┤\n",
              "│ dense_3 (<span style=\"color: #0087ff; text-decoration-color: #0087ff\">Dense</span>)                      │ (<span style=\"color: #00d7ff; text-decoration-color: #00d7ff\">None</span>, <span style=\"color: #00af00; text-decoration-color: #00af00\">1</span>)                   │             <span style=\"color: #00af00; text-decoration-color: #00af00\">129</span> │\n",
              "└──────────────────────────────────────┴─────────────────────────────┴─────────────────┘\n",
              "</pre>\n"
            ]
          },
          "metadata": {}
        },
        {
          "output_type": "display_data",
          "data": {
            "text/plain": [
              "\u001b[1m Total params: \u001b[0m\u001b[38;5;34m66,945\u001b[0m (261.50 KB)\n"
            ],
            "text/html": [
              "<pre style=\"white-space:pre;overflow-x:auto;line-height:normal;font-family:Menlo,'DejaVu Sans Mono',consolas,'Courier New',monospace\"><span style=\"font-weight: bold\"> Total params: </span><span style=\"color: #00af00; text-decoration-color: #00af00\">66,945</span> (261.50 KB)\n",
              "</pre>\n"
            ]
          },
          "metadata": {}
        },
        {
          "output_type": "display_data",
          "data": {
            "text/plain": [
              "\u001b[1m Trainable params: \u001b[0m\u001b[38;5;34m66,945\u001b[0m (261.50 KB)\n"
            ],
            "text/html": [
              "<pre style=\"white-space:pre;overflow-x:auto;line-height:normal;font-family:Menlo,'DejaVu Sans Mono',consolas,'Courier New',monospace\"><span style=\"font-weight: bold\"> Trainable params: </span><span style=\"color: #00af00; text-decoration-color: #00af00\">66,945</span> (261.50 KB)\n",
              "</pre>\n"
            ]
          },
          "metadata": {}
        },
        {
          "output_type": "display_data",
          "data": {
            "text/plain": [
              "\u001b[1m Non-trainable params: \u001b[0m\u001b[38;5;34m0\u001b[0m (0.00 B)\n"
            ],
            "text/html": [
              "<pre style=\"white-space:pre;overflow-x:auto;line-height:normal;font-family:Menlo,'DejaVu Sans Mono',consolas,'Courier New',monospace\"><span style=\"font-weight: bold\"> Non-trainable params: </span><span style=\"color: #00af00; text-decoration-color: #00af00\">0</span> (0.00 B)\n",
              "</pre>\n"
            ]
          },
          "metadata": {}
        }
      ]
    },
    {
      "cell_type": "code",
      "source": [
        "# 1. Early Stopping: Stops training when validation loss doesn't improve.\n",
        "early_stopping = EarlyStopping(\n",
        "    monitor='val_loss',       # Metric to monitor\n",
        "    patience=10,              # Number of epochs to wait for improvement\n",
        "    restore_best_weights=True # Rollback to the best model weights\n",
        ")\n",
        "\n",
        "# 2. Model Checkpoint: Saves the best model during training.\n",
        "model_checkpoint = ModelCheckpoint(\n",
        "    'nn_best_model.keras',     # Filepath to save the model\n",
        "    monitor='val_loss',        # Metric to monitor\n",
        "    save_best_only=True,       # Save only the best model\n",
        "    mode='min',                # Minimize validation loss\n",
        "    verbose=1                  # Show a message when saving the model\n",
        ")\n",
        "\n",
        "# 3. Learning Rate Scheduler: Reduce learning rate when validation loss plateaus.\n",
        "reduce_lr = ReduceLROnPlateau(\n",
        "    monitor='val_loss',        # Metric to monitor\n",
        "    factor=0.1,                # Factor by which to reduce the learning rate\n",
        "    patience=5,                # Number of epochs to wait before reducing\n",
        "    min_lr=1e-6,               # Lower bound for learning rate\n",
        "    verbose=1                  # Show a message when reducing the learning rate\n",
        ")\n",
        "\n",
        "# Combine callbacks into a list\n",
        "callbacks = [early_stopping, model_checkpoint, reduce_lr]"
      ],
      "metadata": {
        "id": "eTAodH5MBPAT"
      },
      "execution_count": 9,
      "outputs": []
    },
    {
      "cell_type": "markdown",
      "metadata": {
        "id": "z65lDS_96OyV"
      },
      "source": [
        "## 4. Implementation\n",
        "\n"
      ]
    },
    {
      "cell_type": "code",
      "source": [
        "# Normalize the features using StandardScaler\n",
        "scaler = StandardScaler()\n",
        "X_train_scaled = scaler.fit_transform(X_train)\n",
        "X_test_scaled = scaler.transform(X_test)"
      ],
      "metadata": {
        "id": "b-AU9b6Icvvy"
      },
      "execution_count": 10,
      "outputs": []
    },
    {
      "cell_type": "code",
      "execution_count": 11,
      "metadata": {
        "id": "ydwm-YUa6OyV",
        "outputId": "93d71f1c-f756-48f9-9a59-79977c934bea",
        "colab": {
          "base_uri": "https://localhost:8080/",
          "height": 1000
        }
      },
      "outputs": [
        {
          "output_type": "stream",
          "name": "stdout",
          "text": [
            "Epoch 1/100\n",
            "\u001b[1m85327/85327\u001b[0m \u001b[32m━━━━━━━━━━━━━━━━━━━━\u001b[0m\u001b[37m\u001b[0m \u001b[1m0s\u001b[0m 1ms/step - loss: 4.3667 - mae: 1.5106\n",
            "Epoch 1: val_loss improved from inf to 3.77023, saving model to nn_best_model.keras\n",
            "\u001b[1m85327/85327\u001b[0m \u001b[32m━━━━━━━━━━━━━━━━━━━━\u001b[0m\u001b[37m\u001b[0m \u001b[1m132s\u001b[0m 2ms/step - loss: 4.3667 - mae: 1.5106 - val_loss: 3.7702 - val_mae: 1.4168 - learning_rate: 0.0010\n",
            "Epoch 2/100\n",
            "\u001b[1m85293/85327\u001b[0m \u001b[32m━━━━━━━━━━━━━━━━━━━\u001b[0m\u001b[37m━\u001b[0m \u001b[1m0s\u001b[0m 1ms/step - loss: 3.8128 - mae: 1.4082\n",
            "Epoch 2: val_loss improved from 3.77023 to 3.57810, saving model to nn_best_model.keras\n",
            "\u001b[1m85327/85327\u001b[0m \u001b[32m━━━━━━━━━━━━━━━━━━━━\u001b[0m\u001b[37m\u001b[0m \u001b[1m127s\u001b[0m 1ms/step - loss: 3.8128 - mae: 1.4082 - val_loss: 3.5781 - val_mae: 1.3625 - learning_rate: 0.0010\n",
            "Epoch 3/100\n",
            "\u001b[1m85296/85327\u001b[0m \u001b[32m━━━━━━━━━━━━━━━━━━━\u001b[0m\u001b[37m━\u001b[0m \u001b[1m0s\u001b[0m 1ms/step - loss: 3.6911 - mae: 1.3843\n",
            "Epoch 3: val_loss improved from 3.57810 to 3.49879, saving model to nn_best_model.keras\n",
            "\u001b[1m85327/85327\u001b[0m \u001b[32m━━━━━━━━━━━━━━━━━━━━\u001b[0m\u001b[37m\u001b[0m \u001b[1m128s\u001b[0m 1ms/step - loss: 3.6911 - mae: 1.3843 - val_loss: 3.4988 - val_mae: 1.3542 - learning_rate: 0.0010\n",
            "Epoch 4/100\n",
            "\u001b[1m85295/85327\u001b[0m \u001b[32m━━━━━━━━━━━━━━━━━━━\u001b[0m\u001b[37m━\u001b[0m \u001b[1m0s\u001b[0m 1ms/step - loss: 3.6076 - mae: 1.3666\n",
            "Epoch 4: val_loss did not improve from 3.49879\n",
            "\u001b[1m85327/85327\u001b[0m \u001b[32m━━━━━━━━━━━━━━━━━━━━\u001b[0m\u001b[37m\u001b[0m \u001b[1m128s\u001b[0m 1ms/step - loss: 3.6076 - mae: 1.3666 - val_loss: 3.5057 - val_mae: 1.3546 - learning_rate: 0.0010\n",
            "Epoch 5/100\n",
            "\u001b[1m85292/85327\u001b[0m \u001b[32m━━━━━━━━━━━━━━━━━━━\u001b[0m\u001b[37m━\u001b[0m \u001b[1m0s\u001b[0m 1ms/step - loss: 3.5655 - mae: 1.3574\n",
            "Epoch 5: val_loss improved from 3.49879 to 3.45365, saving model to nn_best_model.keras\n",
            "\u001b[1m85327/85327\u001b[0m \u001b[32m━━━━━━━━━━━━━━━━━━━━\u001b[0m\u001b[37m\u001b[0m \u001b[1m127s\u001b[0m 1ms/step - loss: 3.5655 - mae: 1.3574 - val_loss: 3.4537 - val_mae: 1.3646 - learning_rate: 0.0010\n",
            "Epoch 6/100\n",
            "\u001b[1m85313/85327\u001b[0m \u001b[32m━━━━━━━━━━━━━━━━━━━\u001b[0m\u001b[37m━\u001b[0m \u001b[1m0s\u001b[0m 1ms/step - loss: 3.5318 - mae: 1.3499\n",
            "Epoch 6: val_loss improved from 3.45365 to 3.41139, saving model to nn_best_model.keras\n",
            "\u001b[1m85327/85327\u001b[0m \u001b[32m━━━━━━━━━━━━━━━━━━━━\u001b[0m\u001b[37m\u001b[0m \u001b[1m127s\u001b[0m 1ms/step - loss: 3.5318 - mae: 1.3499 - val_loss: 3.4114 - val_mae: 1.3379 - learning_rate: 0.0010\n",
            "Epoch 7/100\n",
            "\u001b[1m85307/85327\u001b[0m \u001b[32m━━━━━━━━━━━━━━━━━━━\u001b[0m\u001b[37m━\u001b[0m \u001b[1m0s\u001b[0m 1ms/step - loss: 3.5032 - mae: 1.3440\n",
            "Epoch 7: val_loss improved from 3.41139 to 3.32521, saving model to nn_best_model.keras\n",
            "\u001b[1m85327/85327\u001b[0m \u001b[32m━━━━━━━━━━━━━━━━━━━━\u001b[0m\u001b[37m\u001b[0m \u001b[1m128s\u001b[0m 1ms/step - loss: 3.5032 - mae: 1.3440 - val_loss: 3.3252 - val_mae: 1.3195 - learning_rate: 0.0010\n",
            "Epoch 8/100\n",
            "\u001b[1m85318/85327\u001b[0m \u001b[32m━━━━━━━━━━━━━━━━━━━\u001b[0m\u001b[37m━\u001b[0m \u001b[1m0s\u001b[0m 1ms/step - loss: 3.4748 - mae: 1.3378\n",
            "Epoch 8: val_loss did not improve from 3.32521\n",
            "\u001b[1m85327/85327\u001b[0m \u001b[32m━━━━━━━━━━━━━━━━━━━━\u001b[0m\u001b[37m\u001b[0m \u001b[1m127s\u001b[0m 1ms/step - loss: 3.4748 - mae: 1.3378 - val_loss: 3.4132 - val_mae: 1.3471 - learning_rate: 0.0010\n",
            "Epoch 9/100\n",
            "\u001b[1m85295/85327\u001b[0m \u001b[32m━━━━━━━━━━━━━━━━━━━\u001b[0m\u001b[37m━\u001b[0m \u001b[1m0s\u001b[0m 1ms/step - loss: 3.4548 - mae: 1.3336\n",
            "Epoch 9: val_loss improved from 3.32521 to 3.28591, saving model to nn_best_model.keras\n",
            "\u001b[1m85327/85327\u001b[0m \u001b[32m━━━━━━━━━━━━━━━━━━━━\u001b[0m\u001b[37m\u001b[0m \u001b[1m128s\u001b[0m 1ms/step - loss: 3.4548 - mae: 1.3336 - val_loss: 3.2859 - val_mae: 1.3090 - learning_rate: 0.0010\n",
            "Epoch 10/100\n",
            "\u001b[1m85322/85327\u001b[0m \u001b[32m━━━━━━━━━━━━━━━━━━━\u001b[0m\u001b[37m━\u001b[0m \u001b[1m0s\u001b[0m 1ms/step - loss: 3.4343 - mae: 1.3290\n",
            "Epoch 10: val_loss did not improve from 3.28591\n",
            "\u001b[1m85327/85327\u001b[0m \u001b[32m━━━━━━━━━━━━━━━━━━━━\u001b[0m\u001b[37m\u001b[0m \u001b[1m127s\u001b[0m 1ms/step - loss: 3.4343 - mae: 1.3290 - val_loss: 3.3740 - val_mae: 1.3437 - learning_rate: 0.0010\n",
            "Epoch 11/100\n",
            "\u001b[1m85297/85327\u001b[0m \u001b[32m━━━━━━━━━━━━━━━━━━━\u001b[0m\u001b[37m━\u001b[0m \u001b[1m0s\u001b[0m 1ms/step - loss: 3.4236 - mae: 1.3258\n",
            "Epoch 11: val_loss improved from 3.28591 to 3.27831, saving model to nn_best_model.keras\n",
            "\u001b[1m85327/85327\u001b[0m \u001b[32m━━━━━━━━━━━━━━━━━━━━\u001b[0m\u001b[37m\u001b[0m \u001b[1m126s\u001b[0m 1ms/step - loss: 3.4236 - mae: 1.3258 - val_loss: 3.2783 - val_mae: 1.3079 - learning_rate: 0.0010\n",
            "Epoch 12/100\n",
            "\u001b[1m85304/85327\u001b[0m \u001b[32m━━━━━━━━━━━━━━━━━━━\u001b[0m\u001b[37m━\u001b[0m \u001b[1m0s\u001b[0m 1ms/step - loss: 3.4107 - mae: 1.3222\n",
            "Epoch 12: val_loss improved from 3.27831 to 3.24513, saving model to nn_best_model.keras\n",
            "\u001b[1m85327/85327\u001b[0m \u001b[32m━━━━━━━━━━━━━━━━━━━━\u001b[0m\u001b[37m\u001b[0m \u001b[1m127s\u001b[0m 1ms/step - loss: 3.4107 - mae: 1.3222 - val_loss: 3.2451 - val_mae: 1.2815 - learning_rate: 0.0010\n",
            "Epoch 13/100\n",
            "\u001b[1m85290/85327\u001b[0m \u001b[32m━━━━━━━━━━━━━━━━━━━\u001b[0m\u001b[37m━\u001b[0m \u001b[1m0s\u001b[0m 1ms/step - loss: 3.4018 - mae: 1.3206\n",
            "Epoch 13: val_loss did not improve from 3.24513\n",
            "\u001b[1m85327/85327\u001b[0m \u001b[32m━━━━━━━━━━━━━━━━━━━━\u001b[0m\u001b[37m\u001b[0m \u001b[1m126s\u001b[0m 1ms/step - loss: 3.4018 - mae: 1.3206 - val_loss: 3.3482 - val_mae: 1.3368 - learning_rate: 0.0010\n",
            "Epoch 14/100\n",
            "\u001b[1m85298/85327\u001b[0m \u001b[32m━━━━━━━━━━━━━━━━━━━\u001b[0m\u001b[37m━\u001b[0m \u001b[1m0s\u001b[0m 1ms/step - loss: 3.3766 - mae: 1.3173\n",
            "Epoch 14: val_loss did not improve from 3.24513\n",
            "\u001b[1m85327/85327\u001b[0m \u001b[32m━━━━━━━━━━━━━━━━━━━━\u001b[0m\u001b[37m\u001b[0m \u001b[1m127s\u001b[0m 1ms/step - loss: 3.3766 - mae: 1.3173 - val_loss: 3.2926 - val_mae: 1.3134 - learning_rate: 0.0010\n",
            "Epoch 15/100\n",
            "\u001b[1m85301/85327\u001b[0m \u001b[32m━━━━━━━━━━━━━━━━━━━\u001b[0m\u001b[37m━\u001b[0m \u001b[1m0s\u001b[0m 1ms/step - loss: 3.3790 - mae: 1.3165\n",
            "Epoch 15: val_loss did not improve from 3.24513\n",
            "\u001b[1m85327/85327\u001b[0m \u001b[32m━━━━━━━━━━━━━━━━━━━━\u001b[0m\u001b[37m\u001b[0m \u001b[1m127s\u001b[0m 1ms/step - loss: 3.3790 - mae: 1.3165 - val_loss: 3.2942 - val_mae: 1.3224 - learning_rate: 0.0010\n",
            "Epoch 16/100\n",
            "\u001b[1m85311/85327\u001b[0m \u001b[32m━━━━━━━━━━━━━━━━━━━\u001b[0m\u001b[37m━\u001b[0m \u001b[1m0s\u001b[0m 1ms/step - loss: 3.3712 - mae: 1.3141\n",
            "Epoch 16: val_loss did not improve from 3.24513\n",
            "\u001b[1m85327/85327\u001b[0m \u001b[32m━━━━━━━━━━━━━━━━━━━━\u001b[0m\u001b[37m\u001b[0m \u001b[1m127s\u001b[0m 1ms/step - loss: 3.3712 - mae: 1.3141 - val_loss: 3.2564 - val_mae: 1.2963 - learning_rate: 0.0010\n",
            "Epoch 17/100\n",
            "\u001b[1m85291/85327\u001b[0m \u001b[32m━━━━━━━━━━━━━━━━━━━\u001b[0m\u001b[37m━\u001b[0m \u001b[1m0s\u001b[0m 1ms/step - loss: 3.3649 - mae: 1.3134\n",
            "Epoch 17: val_loss did not improve from 3.24513\n",
            "\n",
            "Epoch 17: ReduceLROnPlateau reducing learning rate to 0.00010000000474974513.\n",
            "\u001b[1m85327/85327\u001b[0m \u001b[32m━━━━━━━━━━━━━━━━━━━━\u001b[0m\u001b[37m\u001b[0m \u001b[1m127s\u001b[0m 1ms/step - loss: 3.3649 - mae: 1.3134 - val_loss: 3.2495 - val_mae: 1.3082 - learning_rate: 0.0010\n",
            "Epoch 18/100\n",
            "\u001b[1m85310/85327\u001b[0m \u001b[32m━━━━━━━━━━━━━━━━━━━\u001b[0m\u001b[37m━\u001b[0m \u001b[1m0s\u001b[0m 1ms/step - loss: 3.2265 - mae: 1.2774\n",
            "Epoch 18: val_loss improved from 3.24513 to 3.11050, saving model to nn_best_model.keras\n",
            "\u001b[1m85327/85327\u001b[0m \u001b[32m━━━━━━━━━━━━━━━━━━━━\u001b[0m\u001b[37m\u001b[0m \u001b[1m126s\u001b[0m 1ms/step - loss: 3.2265 - mae: 1.2774 - val_loss: 3.1105 - val_mae: 1.2711 - learning_rate: 1.0000e-04\n",
            "Epoch 19/100\n",
            "\u001b[1m85310/85327\u001b[0m \u001b[32m━━━━━━━━━━━━━━━━━━━\u001b[0m\u001b[37m━\u001b[0m \u001b[1m0s\u001b[0m 1ms/step - loss: 3.1780 - mae: 1.2669\n",
            "Epoch 19: val_loss improved from 3.11050 to 3.10467, saving model to nn_best_model.keras\n",
            "\u001b[1m85327/85327\u001b[0m \u001b[32m━━━━━━━━━━━━━━━━━━━━\u001b[0m\u001b[37m\u001b[0m \u001b[1m127s\u001b[0m 1ms/step - loss: 3.1780 - mae: 1.2669 - val_loss: 3.1047 - val_mae: 1.2681 - learning_rate: 1.0000e-04\n",
            "Epoch 20/100\n",
            "\u001b[1m85318/85327\u001b[0m \u001b[32m━━━━━━━━━━━━━━━━━━━\u001b[0m\u001b[37m━\u001b[0m \u001b[1m0s\u001b[0m 1ms/step - loss: 3.1794 - mae: 1.2664\n",
            "Epoch 20: val_loss improved from 3.10467 to 3.09001, saving model to nn_best_model.keras\n",
            "\u001b[1m85327/85327\u001b[0m \u001b[32m━━━━━━━━━━━━━━━━━━━━\u001b[0m\u001b[37m\u001b[0m \u001b[1m126s\u001b[0m 1ms/step - loss: 3.1794 - mae: 1.2664 - val_loss: 3.0900 - val_mae: 1.2631 - learning_rate: 1.0000e-04\n",
            "Epoch 21/100\n",
            "\u001b[1m85305/85327\u001b[0m \u001b[32m━━━━━━━━━━━━━━━━━━━\u001b[0m\u001b[37m━\u001b[0m \u001b[1m0s\u001b[0m 1ms/step - loss: 3.1692 - mae: 1.2646\n",
            "Epoch 21: val_loss did not improve from 3.09001\n",
            "\u001b[1m85327/85327\u001b[0m \u001b[32m━━━━━━━━━━━━━━━━━━━━\u001b[0m\u001b[37m\u001b[0m \u001b[1m126s\u001b[0m 1ms/step - loss: 3.1692 - mae: 1.2646 - val_loss: 3.0947 - val_mae: 1.2700 - learning_rate: 1.0000e-04\n",
            "Epoch 22/100\n",
            "\u001b[1m85298/85327\u001b[0m \u001b[32m━━━━━━━━━━━━━━━━━━━\u001b[0m\u001b[37m━\u001b[0m \u001b[1m0s\u001b[0m 1ms/step - loss: 3.1582 - mae: 1.2620\n",
            "Epoch 22: val_loss improved from 3.09001 to 3.07168, saving model to nn_best_model.keras\n",
            "\u001b[1m85327/85327\u001b[0m \u001b[32m━━━━━━━━━━━━━━━━━━━━\u001b[0m\u001b[37m\u001b[0m \u001b[1m126s\u001b[0m 1ms/step - loss: 3.1582 - mae: 1.2620 - val_loss: 3.0717 - val_mae: 1.2627 - learning_rate: 1.0000e-04\n",
            "Epoch 23/100\n",
            "\u001b[1m85291/85327\u001b[0m \u001b[32m━━━━━━━━━━━━━━━━━━━\u001b[0m\u001b[37m━\u001b[0m \u001b[1m0s\u001b[0m 1ms/step - loss: 3.1549 - mae: 1.2617\n",
            "Epoch 23: val_loss improved from 3.07168 to 3.06998, saving model to nn_best_model.keras\n",
            "\u001b[1m85327/85327\u001b[0m \u001b[32m━━━━━━━━━━━━━━━━━━━━\u001b[0m\u001b[37m\u001b[0m \u001b[1m125s\u001b[0m 1ms/step - loss: 3.1549 - mae: 1.2617 - val_loss: 3.0700 - val_mae: 1.2573 - learning_rate: 1.0000e-04\n",
            "Epoch 24/100\n",
            "\u001b[1m85293/85327\u001b[0m \u001b[32m━━━━━━━━━━━━━━━━━━━\u001b[0m\u001b[37m━\u001b[0m \u001b[1m0s\u001b[0m 1ms/step - loss: 3.1544 - mae: 1.2606\n",
            "Epoch 24: val_loss did not improve from 3.06998\n",
            "\u001b[1m85327/85327\u001b[0m \u001b[32m━━━━━━━━━━━━━━━━━━━━\u001b[0m\u001b[37m\u001b[0m \u001b[1m126s\u001b[0m 1ms/step - loss: 3.1544 - mae: 1.2606 - val_loss: 3.0895 - val_mae: 1.2652 - learning_rate: 1.0000e-04\n",
            "Epoch 25/100\n",
            "\u001b[1m85319/85327\u001b[0m \u001b[32m━━━━━━━━━━━━━━━━━━━\u001b[0m\u001b[37m━\u001b[0m \u001b[1m0s\u001b[0m 1ms/step - loss: 3.1533 - mae: 1.2603\n",
            "Epoch 25: val_loss improved from 3.06998 to 3.06256, saving model to nn_best_model.keras\n",
            "\u001b[1m85327/85327\u001b[0m \u001b[32m━━━━━━━━━━━━━━━━━━━━\u001b[0m\u001b[37m\u001b[0m \u001b[1m123s\u001b[0m 1ms/step - loss: 3.1533 - mae: 1.2603 - val_loss: 3.0626 - val_mae: 1.2519 - learning_rate: 1.0000e-04\n",
            "Epoch 26/100\n",
            "\u001b[1m85294/85327\u001b[0m \u001b[32m━━━━━━━━━━━━━━━━━━━\u001b[0m\u001b[37m━\u001b[0m \u001b[1m0s\u001b[0m 1ms/step - loss: 3.1459 - mae: 1.2595\n",
            "Epoch 26: val_loss did not improve from 3.06256\n",
            "\u001b[1m85327/85327\u001b[0m \u001b[32m━━━━━━━━━━━━━━━━━━━━\u001b[0m\u001b[37m\u001b[0m \u001b[1m123s\u001b[0m 1ms/step - loss: 3.1459 - mae: 1.2595 - val_loss: 3.0842 - val_mae: 1.2710 - learning_rate: 1.0000e-04\n",
            "Epoch 27/100\n",
            "\u001b[1m85307/85327\u001b[0m \u001b[32m━━━━━━━━━━━━━━━━━━━\u001b[0m\u001b[37m━\u001b[0m \u001b[1m0s\u001b[0m 1ms/step - loss: 3.1464 - mae: 1.2591\n",
            "Epoch 27: val_loss improved from 3.06256 to 3.06037, saving model to nn_best_model.keras\n",
            "\u001b[1m85327/85327\u001b[0m \u001b[32m━━━━━━━━━━━━━━━━━━━━\u001b[0m\u001b[37m\u001b[0m \u001b[1m122s\u001b[0m 1ms/step - loss: 3.1464 - mae: 1.2591 - val_loss: 3.0604 - val_mae: 1.2590 - learning_rate: 1.0000e-04\n",
            "Epoch 28/100\n",
            "\u001b[1m85325/85327\u001b[0m \u001b[32m━━━━━━━━━━━━━━━━━━━\u001b[0m\u001b[37m━\u001b[0m \u001b[1m0s\u001b[0m 1ms/step - loss: 3.1399 - mae: 1.2574\n",
            "Epoch 28: val_loss improved from 3.06037 to 3.04462, saving model to nn_best_model.keras\n",
            "\u001b[1m85327/85327\u001b[0m \u001b[32m━━━━━━━━━━━━━━━━━━━━\u001b[0m\u001b[37m\u001b[0m \u001b[1m123s\u001b[0m 1ms/step - loss: 3.1399 - mae: 1.2574 - val_loss: 3.0446 - val_mae: 1.2494 - learning_rate: 1.0000e-04\n",
            "Epoch 29/100\n",
            "\u001b[1m85316/85327\u001b[0m \u001b[32m━━━━━━━━━━━━━━━━━━━\u001b[0m\u001b[37m━\u001b[0m \u001b[1m0s\u001b[0m 1ms/step - loss: 3.1235 - mae: 1.2556\n",
            "Epoch 29: val_loss did not improve from 3.04462\n",
            "\u001b[1m85327/85327\u001b[0m \u001b[32m━━━━━━━━━━━━━━━━━━━━\u001b[0m\u001b[37m\u001b[0m \u001b[1m123s\u001b[0m 1ms/step - loss: 3.1235 - mae: 1.2556 - val_loss: 3.0694 - val_mae: 1.2655 - learning_rate: 1.0000e-04\n",
            "Epoch 30/100\n",
            "\u001b[1m85298/85327\u001b[0m \u001b[32m━━━━━━━━━━━━━━━━━━━\u001b[0m\u001b[37m━\u001b[0m \u001b[1m0s\u001b[0m 1ms/step - loss: 3.1311 - mae: 1.2562\n",
            "Epoch 30: val_loss did not improve from 3.04462\n",
            "\u001b[1m85327/85327\u001b[0m \u001b[32m━━━━━━━━━━━━━━━━━━━━\u001b[0m\u001b[37m\u001b[0m \u001b[1m123s\u001b[0m 1ms/step - loss: 3.1311 - mae: 1.2562 - val_loss: 3.0475 - val_mae: 1.2544 - learning_rate: 1.0000e-04\n",
            "Epoch 31/100\n",
            "\u001b[1m85296/85327\u001b[0m \u001b[32m━━━━━━━━━━━━━━━━━━━\u001b[0m\u001b[37m━\u001b[0m \u001b[1m0s\u001b[0m 1ms/step - loss: 3.1404 - mae: 1.2570\n",
            "Epoch 31: val_loss did not improve from 3.04462\n",
            "\u001b[1m85327/85327\u001b[0m \u001b[32m━━━━━━━━━━━━━━━━━━━━\u001b[0m\u001b[37m\u001b[0m \u001b[1m123s\u001b[0m 1ms/step - loss: 3.1404 - mae: 1.2570 - val_loss: 3.0466 - val_mae: 1.2532 - learning_rate: 1.0000e-04\n",
            "Epoch 32/100\n",
            "\u001b[1m85297/85327\u001b[0m \u001b[32m━━━━━━━━━━━━━━━━━━━\u001b[0m\u001b[37m━\u001b[0m \u001b[1m0s\u001b[0m 1ms/step - loss: 3.1249 - mae: 1.2542\n",
            "Epoch 32: val_loss did not improve from 3.04462\n",
            "\u001b[1m85327/85327\u001b[0m \u001b[32m━━━━━━━━━━━━━━━━━━━━\u001b[0m\u001b[37m\u001b[0m \u001b[1m125s\u001b[0m 1ms/step - loss: 3.1249 - mae: 1.2542 - val_loss: 3.0538 - val_mae: 1.2528 - learning_rate: 1.0000e-04\n",
            "Epoch 33/100\n",
            "\u001b[1m85318/85327\u001b[0m \u001b[32m━━━━━━━━━━━━━━━━━━━\u001b[0m\u001b[37m━\u001b[0m \u001b[1m0s\u001b[0m 1ms/step - loss: 3.1308 - mae: 1.2556\n",
            "Epoch 33: val_loss did not improve from 3.04462\n",
            "\n",
            "Epoch 33: ReduceLROnPlateau reducing learning rate to 1.0000000474974514e-05.\n",
            "\u001b[1m85327/85327\u001b[0m \u001b[32m━━━━━━━━━━━━━━━━━━━━\u001b[0m\u001b[37m\u001b[0m \u001b[1m125s\u001b[0m 1ms/step - loss: 3.1308 - mae: 1.2556 - val_loss: 3.0483 - val_mae: 1.2527 - learning_rate: 1.0000e-04\n",
            "Epoch 34/100\n",
            "\u001b[1m85302/85327\u001b[0m \u001b[32m━━━━━━━━━━━━━━━━━━━\u001b[0m\u001b[37m━\u001b[0m \u001b[1m0s\u001b[0m 1ms/step - loss: 3.1205 - mae: 1.2531\n",
            "Epoch 34: val_loss improved from 3.04462 to 3.03403, saving model to nn_best_model.keras\n",
            "\u001b[1m85327/85327\u001b[0m \u001b[32m━━━━━━━━━━━━━━━━━━━━\u001b[0m\u001b[37m\u001b[0m \u001b[1m125s\u001b[0m 1ms/step - loss: 3.1205 - mae: 1.2531 - val_loss: 3.0340 - val_mae: 1.2498 - learning_rate: 1.0000e-05\n",
            "Epoch 35/100\n",
            "\u001b[1m85316/85327\u001b[0m \u001b[32m━━━━━━━━━━━━━━━━━━━\u001b[0m\u001b[37m━\u001b[0m \u001b[1m0s\u001b[0m 1ms/step - loss: 3.1131 - mae: 1.2509\n",
            "Epoch 35: val_loss improved from 3.03403 to 3.03185, saving model to nn_best_model.keras\n",
            "\u001b[1m85327/85327\u001b[0m \u001b[32m━━━━━━━━━━━━━━━━━━━━\u001b[0m\u001b[37m\u001b[0m \u001b[1m124s\u001b[0m 1ms/step - loss: 3.1131 - mae: 1.2509 - val_loss: 3.0318 - val_mae: 1.2492 - learning_rate: 1.0000e-05\n",
            "Epoch 36/100\n",
            "\u001b[1m85299/85327\u001b[0m \u001b[32m━━━━━━━━━━━━━━━━━━━\u001b[0m\u001b[37m━\u001b[0m \u001b[1m0s\u001b[0m 1ms/step - loss: 3.1146 - mae: 1.2507\n",
            "Epoch 36: val_loss improved from 3.03185 to 3.03084, saving model to nn_best_model.keras\n",
            "\u001b[1m85327/85327\u001b[0m \u001b[32m━━━━━━━━━━━━━━━━━━━━\u001b[0m\u001b[37m\u001b[0m \u001b[1m124s\u001b[0m 1ms/step - loss: 3.1146 - mae: 1.2507 - val_loss: 3.0308 - val_mae: 1.2490 - learning_rate: 1.0000e-05\n",
            "Epoch 37/100\n",
            "\u001b[1m85306/85327\u001b[0m \u001b[32m━━━━━━━━━━━━━━━━━━━\u001b[0m\u001b[37m━\u001b[0m \u001b[1m0s\u001b[0m 1ms/step - loss: 3.1090 - mae: 1.2507\n",
            "Epoch 37: val_loss improved from 3.03084 to 3.03012, saving model to nn_best_model.keras\n",
            "\u001b[1m85327/85327\u001b[0m \u001b[32m━━━━━━━━━━━━━━━━━━━━\u001b[0m\u001b[37m\u001b[0m \u001b[1m124s\u001b[0m 1ms/step - loss: 3.1090 - mae: 1.2507 - val_loss: 3.0301 - val_mae: 1.2494 - learning_rate: 1.0000e-05\n",
            "Epoch 38/100\n",
            "\u001b[1m85327/85327\u001b[0m \u001b[32m━━━━━━━━━━━━━━━━━━━━\u001b[0m\u001b[37m\u001b[0m \u001b[1m0s\u001b[0m 1ms/step - loss: 3.1093 - mae: 1.2510\n",
            "Epoch 38: val_loss did not improve from 3.03012\n",
            "\u001b[1m85327/85327\u001b[0m \u001b[32m━━━━━━━━━━━━━━━━━━━━\u001b[0m\u001b[37m\u001b[0m \u001b[1m124s\u001b[0m 1ms/step - loss: 3.1093 - mae: 1.2510 - val_loss: 3.0335 - val_mae: 1.2509 - learning_rate: 1.0000e-05\n",
            "Epoch 39/100\n",
            "\u001b[1m85319/85327\u001b[0m \u001b[32m━━━━━━━━━━━━━━━━━━━\u001b[0m\u001b[37m━\u001b[0m \u001b[1m0s\u001b[0m 1ms/step - loss: 3.1016 - mae: 1.2491\n",
            "Epoch 39: val_loss did not improve from 3.03012\n",
            "\u001b[1m85327/85327\u001b[0m \u001b[32m━━━━━━━━━━━━━━━━━━━━\u001b[0m\u001b[37m\u001b[0m \u001b[1m125s\u001b[0m 1ms/step - loss: 3.1016 - mae: 1.2491 - val_loss: 3.0375 - val_mae: 1.2531 - learning_rate: 1.0000e-05\n",
            "Epoch 40/100\n",
            "\u001b[1m85298/85327\u001b[0m \u001b[32m━━━━━━━━━━━━━━━━━━━\u001b[0m\u001b[37m━\u001b[0m \u001b[1m0s\u001b[0m 1ms/step - loss: 3.1019 - mae: 1.2490\n",
            "Epoch 40: val_loss did not improve from 3.03012\n",
            "\u001b[1m85327/85327\u001b[0m \u001b[32m━━━━━━━━━━━━━━━━━━━━\u001b[0m\u001b[37m\u001b[0m \u001b[1m124s\u001b[0m 1ms/step - loss: 3.1019 - mae: 1.2490 - val_loss: 3.0349 - val_mae: 1.2516 - learning_rate: 1.0000e-05\n",
            "Epoch 41/100\n",
            "\u001b[1m85298/85327\u001b[0m \u001b[32m━━━━━━━━━━━━━━━━━━━\u001b[0m\u001b[37m━\u001b[0m \u001b[1m0s\u001b[0m 1ms/step - loss: 3.1069 - mae: 1.2497\n",
            "Epoch 41: val_loss improved from 3.03012 to 3.02991, saving model to nn_best_model.keras\n",
            "\u001b[1m85327/85327\u001b[0m \u001b[32m━━━━━━━━━━━━━━━━━━━━\u001b[0m\u001b[37m\u001b[0m \u001b[1m125s\u001b[0m 1ms/step - loss: 3.1069 - mae: 1.2497 - val_loss: 3.0299 - val_mae: 1.2495 - learning_rate: 1.0000e-05\n",
            "Epoch 42/100\n",
            "\u001b[1m85318/85327\u001b[0m \u001b[32m━━━━━━━━━━━━━━━━━━━\u001b[0m\u001b[37m━\u001b[0m \u001b[1m0s\u001b[0m 1ms/step - loss: 3.1057 - mae: 1.2502\n",
            "Epoch 42: val_loss did not improve from 3.02991\n",
            "\u001b[1m85327/85327\u001b[0m \u001b[32m━━━━━━━━━━━━━━━━━━━━\u001b[0m\u001b[37m\u001b[0m \u001b[1m122s\u001b[0m 1ms/step - loss: 3.1057 - mae: 1.2502 - val_loss: 3.0329 - val_mae: 1.2510 - learning_rate: 1.0000e-05\n",
            "Epoch 43/100\n",
            "\u001b[1m85313/85327\u001b[0m \u001b[32m━━━━━━━━━━━━━━━━━━━\u001b[0m\u001b[37m━\u001b[0m \u001b[1m0s\u001b[0m 1ms/step - loss: 3.1102 - mae: 1.2501\n",
            "Epoch 43: val_loss did not improve from 3.02991\n",
            "\u001b[1m85327/85327\u001b[0m \u001b[32m━━━━━━━━━━━━━━━━━━━━\u001b[0m\u001b[37m\u001b[0m \u001b[1m125s\u001b[0m 1ms/step - loss: 3.1102 - mae: 1.2501 - val_loss: 3.0300 - val_mae: 1.2487 - learning_rate: 1.0000e-05\n",
            "Epoch 44/100\n",
            "\u001b[1m85296/85327\u001b[0m \u001b[32m━━━━━━━━━━━━━━━━━━━\u001b[0m\u001b[37m━\u001b[0m \u001b[1m0s\u001b[0m 1ms/step - loss: 3.1115 - mae: 1.2509\n",
            "Epoch 44: val_loss improved from 3.02991 to 3.02464, saving model to nn_best_model.keras\n",
            "\u001b[1m85327/85327\u001b[0m \u001b[32m━━━━━━━━━━━━━━━━━━━━\u001b[0m\u001b[37m\u001b[0m \u001b[1m126s\u001b[0m 1ms/step - loss: 3.1115 - mae: 1.2509 - val_loss: 3.0246 - val_mae: 1.2472 - learning_rate: 1.0000e-05\n",
            "Epoch 45/100\n",
            "\u001b[1m85302/85327\u001b[0m \u001b[32m━━━━━━━━━━━━━━━━━━━\u001b[0m\u001b[37m━\u001b[0m \u001b[1m0s\u001b[0m 1ms/step - loss: 3.1084 - mae: 1.2502\n",
            "Epoch 45: val_loss did not improve from 3.02464\n",
            "\u001b[1m85327/85327\u001b[0m \u001b[32m━━━━━━━━━━━━━━━━━━━━\u001b[0m\u001b[37m\u001b[0m \u001b[1m125s\u001b[0m 1ms/step - loss: 3.1084 - mae: 1.2502 - val_loss: 3.0272 - val_mae: 1.2466 - learning_rate: 1.0000e-05\n",
            "Epoch 46/100\n",
            "\u001b[1m85320/85327\u001b[0m \u001b[32m━━━━━━━━━━━━━━━━━━━\u001b[0m\u001b[37m━\u001b[0m \u001b[1m0s\u001b[0m 1ms/step - loss: 3.0939 - mae: 1.2479\n",
            "Epoch 46: val_loss did not improve from 3.02464\n",
            "\u001b[1m85327/85327\u001b[0m \u001b[32m━━━━━━━━━━━━━━━━━━━━\u001b[0m\u001b[37m\u001b[0m \u001b[1m125s\u001b[0m 1ms/step - loss: 3.0939 - mae: 1.2479 - val_loss: 3.0317 - val_mae: 1.2492 - learning_rate: 1.0000e-05\n",
            "Epoch 47/100\n",
            "\u001b[1m85321/85327\u001b[0m \u001b[32m━━━━━━━━━━━━━━━━━━━\u001b[0m\u001b[37m━\u001b[0m \u001b[1m0s\u001b[0m 1ms/step - loss: 3.0961 - mae: 1.2467\n",
            "Epoch 47: val_loss did not improve from 3.02464\n",
            "\u001b[1m85327/85327\u001b[0m \u001b[32m━━━━━━━━━━━━━━━━━━━━\u001b[0m\u001b[37m\u001b[0m \u001b[1m123s\u001b[0m 1ms/step - loss: 3.0961 - mae: 1.2467 - val_loss: 3.0352 - val_mae: 1.2522 - learning_rate: 1.0000e-05\n",
            "Epoch 48/100\n",
            "\u001b[1m85296/85327\u001b[0m \u001b[32m━━━━━━━━━━━━━━━━━━━\u001b[0m\u001b[37m━\u001b[0m \u001b[1m0s\u001b[0m 1ms/step - loss: 3.1033 - mae: 1.2490\n",
            "Epoch 48: val_loss did not improve from 3.02464\n",
            "\u001b[1m85327/85327\u001b[0m \u001b[32m━━━━━━━━━━━━━━━━━━━━\u001b[0m\u001b[37m\u001b[0m \u001b[1m124s\u001b[0m 1ms/step - loss: 3.1033 - mae: 1.2490 - val_loss: 3.0266 - val_mae: 1.2487 - learning_rate: 1.0000e-05\n",
            "Epoch 49/100\n",
            "\u001b[1m85317/85327\u001b[0m \u001b[32m━━━━━━━━━━━━━━━━━━━\u001b[0m\u001b[37m━\u001b[0m \u001b[1m0s\u001b[0m 1ms/step - loss: 3.1067 - mae: 1.2496\n",
            "Epoch 49: val_loss did not improve from 3.02464\n",
            "\n",
            "Epoch 49: ReduceLROnPlateau reducing learning rate to 1.0000000656873453e-06.\n",
            "\u001b[1m85327/85327\u001b[0m \u001b[32m━━━━━━━━━━━━━━━━━━━━\u001b[0m\u001b[37m\u001b[0m \u001b[1m124s\u001b[0m 1ms/step - loss: 3.1067 - mae: 1.2496 - val_loss: 3.0277 - val_mae: 1.2492 - learning_rate: 1.0000e-05\n",
            "Epoch 50/100\n",
            "\u001b[1m85298/85327\u001b[0m \u001b[32m━━━━━━━━━━━━━━━━━━━\u001b[0m\u001b[37m━\u001b[0m \u001b[1m0s\u001b[0m 1ms/step - loss: 3.0996 - mae: 1.2485\n",
            "Epoch 50: val_loss did not improve from 3.02464\n",
            "\u001b[1m85327/85327\u001b[0m \u001b[32m━━━━━━━━━━━━━━━━━━━━\u001b[0m\u001b[37m\u001b[0m \u001b[1m125s\u001b[0m 1ms/step - loss: 3.0996 - mae: 1.2485 - val_loss: 3.0283 - val_mae: 1.2490 - learning_rate: 1.0000e-06\n",
            "Epoch 51/100\n",
            "\u001b[1m85325/85327\u001b[0m \u001b[32m━━━━━━━━━━━━━━━━━━━\u001b[0m\u001b[37m━\u001b[0m \u001b[1m0s\u001b[0m 1ms/step - loss: 3.0926 - mae: 1.2475\n",
            "Epoch 51: val_loss did not improve from 3.02464\n",
            "\u001b[1m85327/85327\u001b[0m \u001b[32m━━━━━━━━━━━━━━━━━━━━\u001b[0m\u001b[37m\u001b[0m \u001b[1m125s\u001b[0m 1ms/step - loss: 3.0926 - mae: 1.2475 - val_loss: 3.0252 - val_mae: 1.2475 - learning_rate: 1.0000e-06\n",
            "Epoch 52/100\n",
            "\u001b[1m85327/85327\u001b[0m \u001b[32m━━━━━━━━━━━━━━━━━━━━\u001b[0m\u001b[37m\u001b[0m \u001b[1m0s\u001b[0m 1ms/step - loss: 3.1019 - mae: 1.2493\n",
            "Epoch 52: val_loss did not improve from 3.02464\n",
            "\u001b[1m85327/85327\u001b[0m \u001b[32m━━━━━━━━━━━━━━━━━━━━\u001b[0m\u001b[37m\u001b[0m \u001b[1m126s\u001b[0m 1ms/step - loss: 3.1019 - mae: 1.2493 - val_loss: 3.0261 - val_mae: 1.2478 - learning_rate: 1.0000e-06\n",
            "Epoch 53/100\n",
            "\u001b[1m85292/85327\u001b[0m \u001b[32m━━━━━━━━━━━━━━━━━━━\u001b[0m\u001b[37m━\u001b[0m \u001b[1m0s\u001b[0m 1ms/step - loss: 3.1051 - mae: 1.2496\n",
            "Epoch 53: val_loss did not improve from 3.02464\n",
            "\u001b[1m85327/85327\u001b[0m \u001b[32m━━━━━━━━━━━━━━━━━━━━\u001b[0m\u001b[37m\u001b[0m \u001b[1m125s\u001b[0m 1ms/step - loss: 3.1051 - mae: 1.2496 - val_loss: 3.0262 - val_mae: 1.2486 - learning_rate: 1.0000e-06\n",
            "Epoch 54/100\n",
            "\u001b[1m85304/85327\u001b[0m \u001b[32m━━━━━━━━━━━━━━━━━━━\u001b[0m\u001b[37m━\u001b[0m \u001b[1m0s\u001b[0m 1ms/step - loss: 3.1004 - mae: 1.2486\n",
            "Epoch 54: val_loss did not improve from 3.02464\n",
            "\n",
            "Epoch 54: ReduceLROnPlateau reducing learning rate to 1e-06.\n",
            "\u001b[1m85327/85327\u001b[0m \u001b[32m━━━━━━━━━━━━━━━━━━━━\u001b[0m\u001b[37m\u001b[0m \u001b[1m126s\u001b[0m 1ms/step - loss: 3.1004 - mae: 1.2486 - val_loss: 3.0265 - val_mae: 1.2480 - learning_rate: 1.0000e-06\n",
            "\u001b[1m9481/9481\u001b[0m \u001b[32m━━━━━━━━━━━━━━━━━━━━\u001b[0m\u001b[37m\u001b[0m \u001b[1m10s\u001b[0m 1ms/step - loss: 3.0195 - mae: 1.2467\n",
            "Test Loss: 3.0246357917785645, Test MAE: 1.2471673488616943\n"
          ]
        },
        {
          "output_type": "display_data",
          "data": {
            "text/plain": [
              "<Figure size 640x480 with 1 Axes>"
            ],
            "image/png": "[encoded data removed]"
          },
          "metadata": {}
        },
        {
          "output_type": "display_data",
          "data": {
            "text/plain": [
              "<IPython.core.display.Javascript object>"
            ],
            "application/javascript": [
              "\n",
              "    async function download(id, filename, size) {\n",
              "      if (!google.colab.kernel.accessAllowed) {\n",
              "        return;\n",
              "      }\n",
              "      const div = document.createElement('div');\n",
              "      const label = document.createElement('label');\n",
              "      label.textContent = `Downloading \"${filename}\": `;\n",
              "      div.appendChild(label);\n",
              "      const progress = document.createElement('progress');\n",
              "      progress.max = size;\n",
              "      div.appendChild(progress);\n",
              "      document.body.appendChild(div);\n",
              "\n",
              "      const buffers = [];\n",
              "      let downloaded = 0;\n",
              "\n",
              "      const channel = await google.colab.kernel.comms.open(id);\n",
              "      // Send a message to notify the kernel that we're ready.\n",
              "      channel.send({})\n",
              "\n",
              "      for await (const message of channel.messages) {\n",
              "        // Send a message to notify the kernel that we're ready.\n",
              "        channel.send({})\n",
              "        if (message.buffers) {\n",
              "          for (const buffer of message.buffers) {\n",
              "            buffers.push(buffer);\n",
              "            downloaded += buffer.byteLength;\n",
              "            progress.value = downloaded;\n",
              "          }\n",
              "        }\n",
              "      }\n",
              "      const blob = new Blob(buffers, {type: 'application/binary'});\n",
              "      const a = document.createElement('a');\n",
              "      a.href = window.URL.createObjectURL(blob);\n",
              "      a.download = filename;\n",
              "      div.appendChild(a);\n",
              "      a.click();\n",
              "      div.remove();\n",
              "    }\n",
              "  "
            ]
          },
          "metadata": {}
        },
        {
          "output_type": "display_data",
          "data": {
            "text/plain": [
              "<IPython.core.display.Javascript object>"
            ],
            "application/javascript": [
              "download(\"download_86f13872-2e41-406b-a168-032baa5710a6\", \"nn_best_model.keras\", 833147)"
            ]
          },
          "metadata": {}
        }
      ],
      "source": [
        "# Train the model with callbacks\n",
        "history = model.fit(\n",
        "    X_train_scaled, y_train,\n",
        "    epochs=100,\n",
        "    batch_size=32,\n",
        "    validation_data=(X_test_scaled, y_test),\n",
        "    callbacks=callbacks       # Pass callbacks to the fit method\n",
        ")\n",
        "\n",
        "# Evaluate the model\n",
        "loss, mae = model.evaluate(X_test_scaled, y_test)\n",
        "print(f\"Test Loss: {loss}, Test MAE: {mae}\")\n",
        "\n",
        "# Optionally, plot the training history (e.g., loss or MAE over epochs)\n",
        "import matplotlib.pyplot as plt\n",
        "plt.plot(history.history['loss'], label='Training Loss')\n",
        "plt.plot(history.history['val_loss'], label='Validation Loss')\n",
        "plt.xlabel('Epochs')\n",
        "plt.ylabel('Loss')\n",
        "plt.legend()\n",
        "plt.show()\n",
        "\n",
        "# Download calculated model on local drive\n",
        "from google.colab import files\n",
        "file_path = '/content/nn_best_model.keras'  # Full path to the file\n",
        "files.download(file_path)\n"
      ]
    },
    {
      "cell_type": "markdown",
      "metadata": {
        "id": "brH6Z8VK6OyW"
      },
      "source": [
        "## 5. Evaluation\n",
        "\n",
        "Comparison between linear and neural network model.\n"
      ]
    },
    {
      "cell_type": "markdown",
      "source": [
        "#### Load test files"
      ],
      "metadata": {
        "id": "j53HtqoPiaGy"
      }
    },
    {
      "cell_type": "code",
      "source": [
        "# unzip test files\n",
        "!unzip /content/drive/MyDrive/opencampus_all_files/rider3/Rider3_test.zip -d /content"
      ],
      "metadata": {
        "id": "0PnKeCvNyUwr",
        "outputId": "696b8a07-6fae-4b99-ef45-aef8d38aa9b8",
        "colab": {
          "base_uri": "https://localhost:8080/"
        }
      },
      "execution_count": 14,
      "outputs": [
        {
          "output_type": "stream",
          "name": "stdout",
          "text": [
            "Archive:  /content/drive/MyDrive/opencampus_all_files/rider3/Rider3_test.zip\n",
            "   creating: /content/content/Rider3_test/\n",
            "  inflating: /content/content/Rider3_test/f234.csv  \n",
            "  inflating: /content/content/Rider3_test/f114.csv  \n",
            "  inflating: /content/content/Rider3_test/f559.csv  \n",
            "  inflating: /content/content/Rider3_test/f47.csv  \n",
            "  inflating: /content/content/Rider3_test/f566.csv  \n",
            "  inflating: /content/content/Rider3_test/f144.csv  \n",
            "  inflating: /content/content/Rider3_test/f24.csv  \n",
            "  inflating: /content/content/Rider3_test/f647.csv  \n",
            "  inflating: /content/content/Rider3_test/f437.csv  \n",
            "  inflating: /content/content/Rider3_test/f537.csv  \n"
          ]
        }
      ]
    },
    {
      "cell_type": "markdown",
      "source": [
        "#### Evaluation 1 - Linear Regression"
      ],
      "metadata": {
        "id": "F79HFxv1c7HE"
      }
    },
    {
      "cell_type": "code",
      "source": [
        "# Load linear model\n",
        "lr_model = joblib.load('/content/drive/MyDrive/opencampus_all_files/models/r3_init_lr_model.joblib')"
      ],
      "metadata": {
        "id": "A8LXO0L1zxI5"
      },
      "execution_count": 12,
      "outputs": []
    },
    {
      "cell_type": "code",
      "source": [
        "# Define the folder containing the files\n",
        "input_folder_path = '/content/content/Rider3_test/'\n",
        "output_folder_path = '/content/content/Rider3_test_LR/'\n",
        "\n",
        "# Create output_folder_path\n",
        "if not os.path.exists(output_folder_path):\n",
        "    os.makedirs(output_folder_path)\n",
        "\n",
        "# List all CSV files in the folder\n",
        "csv_files = [f for f in os.listdir(input_folder_path) if f.endswith('.csv')]\n",
        "\n",
        "# Iterate through each file in the folder\n",
        "for file in csv_files:\n",
        "    file_path = os.path.join(input_folder_path, file)\n",
        "\n",
        "    # Read test file\n",
        "    df = pd.read_csv(file_path)\n",
        "\n",
        "    # Feature selection\n",
        "    real_time = df['Time']\n",
        "    X = df[['Elevation', 'Slope_prev', 'Slope_next', 'Angle', 'Distance', 'Cumulative_Slope']]\n",
        "    y = df['Speed']\n",
        "\n",
        "    # Make predictions on the new data\n",
        "    y_pred = lr_model.predict(X)\n",
        "\n",
        "    # Add the predicted values as a new column 'Speed_pred' in the original DataFrame\n",
        "    df['Speed_pred'] = y_pred\n",
        "\n",
        "    # Calculate MAE between df['Speed_pred'] and df['Speed']\n",
        "    mae = mean_absolute_error(df['Speed'], df['Speed_pred'])\n",
        "    print(f\"File: {file} | Mean Absolute Error: {mae}\")\n",
        "\n",
        "    # Initialize Time column\n",
        "    df['Time_pred'] = float(df['Time'].iloc[0])\n",
        "\n",
        "    # Compute predicted time\n",
        "    for i in range(2, len(df)):\n",
        "        if df.loc[i, 'Speed_pred'] < 0:\n",
        "            df.loc[i, 'Speed_pred'] = 0\n",
        "        if pd.notna(df.loc[i, 'Speed_pred']):\n",
        "            if df.loc[i, 'Speed_pred'] != 0:\n",
        "                df.loc[i, 'Time_pred'] = (\n",
        "                    df.loc[i - 1, 'Time_pred'] +\n",
        "                    (df.loc[i, 'Distance'] - df.loc[i - 1, 'Distance']) / df.loc[i, 'Speed_pred']\n",
        "                )\n",
        "            else:\n",
        "                df.loc[i, 'Time_pred'] = df.loc[i - 1, 'Time_pred']\n",
        "\n",
        "    # Save the processed DataFrame to a new file (optional)\n",
        "    output_file_path = os.path.join(output_folder_path, f\"lr_{file}\")\n",
        "    df.to_csv(output_file_path, index=False)\n"
      ],
      "metadata": {
        "id": "eGnbQDG2WO-_",
        "outputId": "d22e70b1-00f6-44c9-e1f0-9a7f24513c9e",
        "colab": {
          "base_uri": "https://localhost:8080/"
        }
      },
      "execution_count": 15,
      "outputs": [
        {
          "output_type": "stream",
          "name": "stdout",
          "text": [
            "File: f437.csv | Mean Absolute Error: 1.668973024420697\n",
            "File: f537.csv | Mean Absolute Error: 1.7554145840209456\n",
            "File: f566.csv | Mean Absolute Error: 2.262456970434034\n",
            "File: f144.csv | Mean Absolute Error: 1.648155153952739\n",
            "File: f24.csv | Mean Absolute Error: 2.003406576574774\n",
            "File: f114.csv | Mean Absolute Error: 1.7488265902170683\n",
            "File: f559.csv | Mean Absolute Error: 2.0890018601949847\n",
            "File: f234.csv | Mean Absolute Error: 1.7416209288971654\n",
            "File: f47.csv | Mean Absolute Error: 2.0508174928151908\n",
            "File: f647.csv | Mean Absolute Error: 2.0359019365014523\n"
          ]
        }
      ]
    },
    {
      "cell_type": "markdown",
      "source": [
        "#### Evaluation 2 - Neural Network"
      ],
      "metadata": {
        "id": "EvfWLhhPdC6a"
      }
    },
    {
      "cell_type": "code",
      "source": [
        "# Load neural network model\n",
        "nn_model = tf.keras.models.load_model(\"/content/drive/MyDrive/opencampus_all_files/models/r3_mse_nn_model.keras\")"
      ],
      "metadata": {
        "id": "Z-1-feh5c-Vb"
      },
      "execution_count": 16,
      "outputs": []
    },
    {
      "cell_type": "code",
      "source": [
        "# Define the folder containing the files\n",
        "input_folder_path = '/content/content/Rider3_test/'\n",
        "output_folder_path = '/content/content/Rider3_test_NN/'\n",
        "\n",
        "# Create output_folder_path\n",
        "if not os.path.exists(output_folder_path):\n",
        "    os.makedirs(output_folder_path)\n",
        "\n",
        "# List all CSV files in the folder\n",
        "csv_files = [f for f in os.listdir(input_folder_path) if f.endswith('.csv')]\n",
        "\n",
        "# Iterate through each file in the folder\n",
        "for file in csv_files:\n",
        "    file_path = os.path.join(input_folder_path, file)\n",
        "\n",
        "    # Read test file\n",
        "    df = pd.read_csv(file_path)\n",
        "\n",
        "    # Feature selection\n",
        "    real_time = df['Time']\n",
        "    X = df[['Elevation', 'Slope_prev', 'Slope_next', 'Angle', 'Distance', 'Cumulative_Slope']]\n",
        "    y = df['Speed']\n",
        "\n",
        "    # Make predictions on the new data\n",
        "    X_new_scaled = scaler.transform(X)\n",
        "    y_pred = nn_model.predict(X_new_scaled)\n",
        "\n",
        "    # Add the predicted values as a new column 'Speed_pred' in the original DataFrame\n",
        "    df['Speed_pred'] = y_pred\n",
        "\n",
        "    # Calculate MAE between df['Speed_pred'] and df['Speed']\n",
        "    mae = mean_absolute_error(df['Speed'], df['Speed_pred'])\n",
        "    print(f\"File: {file} | Mean Absolute Error: {mae}\")\n",
        "\n",
        "    # Initialize Time column\n",
        "    df['Time_pred'] = float(df['Time'].iloc[0])\n",
        "\n",
        "    # Compute predicted time\n",
        "    for i in range(2, len(df)):\n",
        "        if df.loc[i, 'Speed_pred'] < 0:\n",
        "            df.loc[i, 'Speed_pred'] = 0\n",
        "        if pd.notna(df.loc[i, 'Speed_pred']):\n",
        "            if df.loc[i, 'Speed_pred'] != 0:\n",
        "                df.loc[i, 'Time_pred'] = (\n",
        "                    df.loc[i - 1, 'Time_pred'] +\n",
        "                    (df.loc[i, 'Distance'] - df.loc[i - 1, 'Distance']) / df.loc[i, 'Speed_pred']\n",
        "                )\n",
        "            else:\n",
        "                df.loc[i, 'Time_pred'] = df.loc[i - 1, 'Time_pred']\n",
        "\n",
        "    # Save the processed DataFrame to a new file (optional)\n",
        "    output_file_path = os.path.join(output_folder_path, f\"nn_{file}\")\n",
        "    df.to_csv(output_file_path, index=False)\n"
      ],
      "metadata": {
        "id": "BO8T_aTjXKlK",
        "outputId": "5807d1e8-8f73-464b-f8e5-95f56714112a",
        "colab": {
          "base_uri": "https://localhost:8080/"
        }
      },
      "execution_count": 17,
      "outputs": [
        {
          "output_type": "stream",
          "name": "stdout",
          "text": [
            "\u001b[1m36/36\u001b[0m \u001b[32m━━━━━━━━━━━━━━━━━━━━\u001b[0m\u001b[37m\u001b[0m \u001b[1m1s\u001b[0m 10ms/step\n",
            "File: f437.csv | Mean Absolute Error: 1.4185177288381339\n",
            "\u001b[1m123/123\u001b[0m \u001b[32m━━━━━━━━━━━━━━━━━━━━\u001b[0m\u001b[37m\u001b[0m \u001b[1m0s\u001b[0m 3ms/step\n",
            "File: f537.csv | Mean Absolute Error: 1.3679558181952007\n",
            "\u001b[1m71/71\u001b[0m \u001b[32m━━━━━━━━━━━━━━━━━━━━\u001b[0m\u001b[37m\u001b[0m \u001b[1m0s\u001b[0m 4ms/step\n",
            "File: f566.csv | Mean Absolute Error: 1.5116033694708106\n",
            "\u001b[1m211/211\u001b[0m \u001b[32m━━━━━━━━━━━━━━━━━━━━\u001b[0m\u001b[37m\u001b[0m \u001b[1m0s\u001b[0m 2ms/step\n",
            "File: f144.csv | Mean Absolute Error: 1.3004845544151193\n",
            "\u001b[1m113/113\u001b[0m \u001b[32m━━━━━━━━━━━━━━━━━━━━\u001b[0m\u001b[37m\u001b[0m \u001b[1m0s\u001b[0m 3ms/step\n",
            "File: f24.csv | Mean Absolute Error: 1.280538647109091\n",
            "\u001b[1m173/173\u001b[0m \u001b[32m━━━━━━━━━━━━━━━━━━━━\u001b[0m\u001b[37m\u001b[0m \u001b[1m0s\u001b[0m 2ms/step\n",
            "File: f114.csv | Mean Absolute Error: 1.3838351290294801\n",
            "\u001b[1m35/35\u001b[0m \u001b[32m━━━━━━━━━━━━━━━━━━━━\u001b[0m\u001b[37m\u001b[0m \u001b[1m0s\u001b[0m 4ms/step\n",
            "File: f559.csv | Mean Absolute Error: 1.241506570306826\n",
            "\u001b[1m131/131\u001b[0m \u001b[32m━━━━━━━━━━━━━━━━━━━━\u001b[0m\u001b[37m\u001b[0m \u001b[1m0s\u001b[0m 3ms/step\n",
            "File: f234.csv | Mean Absolute Error: 1.3852115782484578\n",
            "\u001b[1m77/77\u001b[0m \u001b[32m━━━━━━━━━━━━━━━━━━━━\u001b[0m\u001b[37m\u001b[0m \u001b[1m0s\u001b[0m 4ms/step\n",
            "File: f47.csv | Mean Absolute Error: 1.7581804723629753\n",
            "\u001b[1m158/158\u001b[0m \u001b[32m━━━━━━━━━━━━━━━━━━━━\u001b[0m\u001b[37m\u001b[0m \u001b[1m0s\u001b[0m 3ms/step\n",
            "File: f647.csv | Mean Absolute Error: 1.4378520738654519\n"
          ]
        }
      ]
    },
    {
      "cell_type": "markdown",
      "source": [
        "### Evaluation summary"
      ],
      "metadata": {
        "id": "_MtweafKlcKP"
      }
    },
    {
      "cell_type": "code",
      "source": [
        "# Summary statistics for processed files\n",
        "output_folder_path = '/content/content/Rider3_test_LR/'\n",
        "summary_lr = []\n",
        "processed_files = [f for f in os.listdir(output_folder_path) if f.endswith('.csv')]\n",
        "\n",
        "for file in processed_files:\n",
        "    file_path = os.path.join(output_folder_path, file)\n",
        "    df = pd.read_csv(file_path)\n",
        "\n",
        "    # Extract the last value of 'Time' and 'Time_pred'\n",
        "    last_time = df['Time'].iloc[-1]\n",
        "    last_time_pred = df['Time_pred'].iloc[-1]\n",
        "\n",
        "    # Calculate percentage difference\n",
        "    percentage_diff = ((last_time_pred - last_time) / last_time) * 100 if last_time != 0 else None\n",
        "\n",
        "    # Append to summary\n",
        "    summary_lr.append({\n",
        "        'file': file,\n",
        "        'last_time': last_time,\n",
        "        'last_time_pred': last_time_pred,\n",
        "        'percentage_diff': percentage_diff\n",
        "    })"
      ],
      "metadata": {
        "id": "RtCMC4XYi6QO"
      },
      "execution_count": 18,
      "outputs": []
    },
    {
      "cell_type": "code",
      "source": [
        "# Summary statistics for processed files\n",
        "output_folder_path = '/content/content/Rider3_test_NN/'\n",
        "summary_nn = []\n",
        "processed_files = [f for f in os.listdir(output_folder_path) if f.endswith('.csv')]\n",
        "\n",
        "for file in processed_files:\n",
        "    file_path = os.path.join(output_folder_path, file)\n",
        "    df = pd.read_csv(file_path)\n",
        "\n",
        "    # Extract the last value of 'Time' and 'Time_pred'\n",
        "    last_time = df['Time'].iloc[-1]\n",
        "    last_time_pred = df['Time_pred'].iloc[-1]\n",
        "\n",
        "    # Calculate percentage difference\n",
        "    percentage_diff = ((last_time_pred - last_time) / last_time) * 100 if last_time != 0 else None\n",
        "\n",
        "    # Append to summary\n",
        "    summary_nn.append({\n",
        "        'file': file,\n",
        "        'last_time': last_time,\n",
        "        'last_time_pred': last_time_pred,\n",
        "        'percentage_diff': percentage_diff\n",
        "    })"
      ],
      "metadata": {
        "id": "L_Q6xesa8UbX"
      },
      "execution_count": 19,
      "outputs": []
    },
    {
      "cell_type": "code",
      "source": [
        "# Print summary\n",
        "summary_lr_df = pd.DataFrame(summary_lr).sort_values(by=['file'])\n",
        "print(summary_lr_df)\n",
        "print(f\"Absolute percentage difference in LR model: {summary_lr_df['percentage_diff'].abs().mean()}\\n\")\n",
        "\n",
        "summary_nn_df = pd.DataFrame(summary_nn).sort_values(by=['file'])\n",
        "print(summary_nn_df)\n",
        "print(f\"Absolute percentage difference in NN model: {summary_nn_df['percentage_diff'].abs().mean()}\")"
      ],
      "metadata": {
        "id": "WU5ltW-L8RfJ",
        "outputId": "03d96d9a-7f6c-46ab-991f-e55ce8b1c005",
        "colab": {
          "base_uri": "https://localhost:8080/"
        }
      },
      "execution_count": 20,
      "outputs": [
        {
          "output_type": "stream",
          "name": "stdout",
          "text": [
            "          file  last_time  last_time_pred  percentage_diff\n",
            "8  lr_f114.csv       5553     5600.173762         0.849518\n",
            "7  lr_f144.csv       6864     6336.960079        -7.678321\n",
            "4  lr_f234.csv       4294     3540.409084       -17.549858\n",
            "5   lr_f24.csv       8877     9524.708456         7.296479\n",
            "0  lr_f437.csv       1138      766.798228       -32.618785\n",
            "1   lr_f47.csv       5492     5804.706142         5.693848\n",
            "6  lr_f537.csv       4311     4608.122235         6.892188\n",
            "9  lr_f559.csv       1412      980.967598       -30.526374\n",
            "2  lr_f566.csv       2290     1332.727136       -41.802308\n",
            "3  lr_f647.csv       5229     5369.212654         2.681443\n",
            "Absolute percentage difference in LR model: 15.358912331780052\n",
            "\n",
            "          file  last_time  last_time_pred  percentage_diff\n",
            "6  nn_f114.csv       5553     5542.771289        -0.184202\n",
            "0  nn_f144.csv       6864     6394.234106        -6.843909\n",
            "8  nn_f234.csv       4294     3698.357485       -13.871507\n",
            "1   nn_f24.csv       8877     8618.184727        -2.915571\n",
            "4  nn_f437.csv       1138      830.282152       -27.040233\n",
            "9   nn_f47.csv       5492     5683.119669         3.479965\n",
            "3  nn_f537.csv       4311     4450.769626         3.242163\n",
            "5  nn_f559.csv       1412     1140.943112       -19.196663\n",
            "7  nn_f566.csv       2290     1632.642627       -28.705562\n",
            "2  nn_f647.csv       5229     4544.694781       -13.086732\n",
            "Absolute percentage difference in NN model: 11.856650636508206\n"
          ]
        }
      ]
    }
  ],
  "metadata": {
    "language_info": {
      "name": "python"
    },
    "colab": {
      "provenance": [],
      "machine_shape": "hm",
      "gpuType": "T4"
    },
    "kernelspec": {
      "name": "python3",
      "display_name": "Python 3"
    },
    "accelerator": "GPU"
  },
  "nbformat": 4,
  "nbformat_minor": 0
}
